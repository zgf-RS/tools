{
 "cells": [
  {
   "cell_type": "code",
   "execution_count": 2,
   "metadata": {},
   "outputs": [
    {
     "name": "stdout",
     "output_type": "stream",
     "text": [
      "Looking in indexes: https://pypi.tuna.tsinghua.edu.cn/simple\n",
      "Collecting rasterio\n",
      "  Downloading https://pypi.tuna.tsinghua.edu.cn/packages/1f/9f/1a771cc98cadd0e189e740401f5040c31f7373d75365d6655795faf33536/rasterio-1.3.10-cp312-cp312-macosx_11_0_arm64.whl (18.2 MB)\n",
      "\u001b[2K     \u001b[90m━━━━━━━━━━━━━━━━━━━━━━━━━━━━━━━━━━━━━━━━\u001b[0m \u001b[32m18.2/18.2 MB\u001b[0m \u001b[31m3.8 MB/s\u001b[0m eta \u001b[36m0:00:00\u001b[0m00:01\u001b[0m00:01\u001b[0m\n",
      "\u001b[?25hCollecting affine (from rasterio)\n",
      "  Using cached https://pypi.tuna.tsinghua.edu.cn/packages/0b/f7/85273299ab57117850cc0a936c64151171fac4da49bc6fba0dad984a7c5f/affine-2.4.0-py3-none-any.whl (15 kB)\n",
      "Requirement already satisfied: attrs in /opt/homebrew/lib/python3.12/site-packages (from rasterio) (23.2.0)\n",
      "Requirement already satisfied: certifi in /opt/homebrew/lib/python3.12/site-packages (from rasterio) (2024.6.2)\n",
      "Requirement already satisfied: click>=4.0 in /opt/homebrew/lib/python3.12/site-packages (from rasterio) (8.1.7)\n",
      "Requirement already satisfied: cligj>=0.5 in /opt/homebrew/lib/python3.12/site-packages (from rasterio) (0.7.2)\n",
      "Requirement already satisfied: numpy in /opt/homebrew/lib/python3.12/site-packages (from rasterio) (1.26.4)\n",
      "Collecting snuggs>=1.4.1 (from rasterio)\n",
      "  Downloading https://pypi.tuna.tsinghua.edu.cn/packages/cc/0e/d27d6e806d6c0d1a2cfdc5d1f088e42339a0a54a09c3343f7f81ec8947ea/snuggs-1.4.7-py3-none-any.whl (5.4 kB)\n",
      "Requirement already satisfied: click-plugins in /opt/homebrew/lib/python3.12/site-packages (from rasterio) (1.1.1)\n",
      "Requirement already satisfied: setuptools in /opt/homebrew/lib/python3.12/site-packages (from rasterio) (70.0.0)\n",
      "Requirement already satisfied: pyparsing>=2.1.6 in /opt/homebrew/lib/python3.12/site-packages (from snuggs>=1.4.1->rasterio) (3.1.2)\n",
      "Installing collected packages: snuggs, affine, rasterio\n",
      "Successfully installed affine-2.4.0 rasterio-1.3.10 snuggs-1.4.7\n"
     ]
    }
   ],
   "source": [
    "!pip3 install rasterio"
   ]
  },
  {
   "cell_type": "code",
   "execution_count": 3,
   "metadata": {},
   "outputs": [],
   "source": [
    "import geopandas as gpd\n",
    "# 读取GeoJSON\n",
    "geopath = '/Users/zgf/Downloads/同步空间/毕业设计/tools/test.geojson'\n",
    "lindi = gpd.read_file(geopath)"
   ]
  },
  {
   "cell_type": "code",
   "execution_count": 10,
   "metadata": {},
   "outputs": [
    {
     "name": "stdout",
     "output_type": "stream",
     "text": [
      "POINT (112.093844909471 31.01556644197155)\n",
      "112.093844909471 31.01556644197155\n",
      "Feature ID: 0\n",
      "Geometry: POLYGON ((112.093865 31.016215164, 112.09381163 31.0161826, 112.09369898 31.0160163, 112.09351122 31.01589292, 112.09336102 31.01580709, 112.093191216 31.015651074, 112.093078276 31.01550193, 112.093055656 31.015463986, 112.09309741 31.015442921, 112.093104844 31.01543917, 112.093115088 31.015434002, 112.093115519 31.015433785, 112.09311979 31.01543163, 112.093146073 31.01541837, 112.093167482 31.01540757, 112.093211304 31.015385461, 112.093453257 31.015263397, 112.093763398 31.015245046, 112.094098827 31.014970619, 112.094104119 31.014858254, 112.094104402 31.014852246, 112.094104657 31.014846823, 112.094105438 31.014830241, 112.094106841 31.014800453, 112.094181248 31.014781883, 112.094193265 31.014778884, 112.094194819 31.014782518, 112.094194956 31.014782839, 112.094195283 31.014783603, 112.094199888 31.01479118, 112.094200332 31.01479191, 112.094200568 31.014792299, 112.094223253 31.014829617, 112.094248587 31.014871294, 112.094329591 31.014987933, 112.094295028 31.015017944, 112.094293328 31.01501942, 112.094280391 31.015030654, 112.094271376 31.015038481, 112.094288917 31.015121239, 112.094364981 31.015242092, 112.09437183 31.0154057, 112.094367576 31.015436465, 112.094324642 31.015448482, 112.0943224 31.01544911, 112.094316905 31.015450648, 112.09430828 31.015453062, 112.094307784 31.015454114, 112.09430272 31.015464849, 112.094270806 31.015532508, 112.094281002 31.015734408, 112.09428127 31.015739708, 112.094290303 31.0158121, 112.094216209 31.015939647, 112.094185172 31.015993075, 112.094159151 31.016037868, 112.094155297 31.0160651, 112.09415342 31.016078363, 112.094139239 31.016178577, 112.09410016 31.016182355, 112.094099387 31.016182429, 112.094099293 31.016182438, 112.094094413 31.01618291, 112.094067335 31.016200283, 112.094041056 31.016217143, 112.094022471 31.016229066, 112.094018378 31.016231693, 112.093969744 31.016226452, 112.093969291 31.016226403, 112.093966589 31.016226112, 112.093865 31.016215164))\n"
     ]
    }
   ],
   "source": [
    "import geopandas as gpd\n",
    "\n",
    "# 读取GeoJSON\n",
    "geopath = '/Users/zgf/Downloads/同步空间/毕业设计/tools/test.geojson'\n",
    "lindi = gpd.read_file(geopath)\n",
    "\n",
    "# 遍历每一个feature\n",
    "for index, row in lindi.iterrows():\n",
    "    # row['geometry'] 包含当前feature的几何信息\n",
    "    geom = row['geometry']\n",
    "    # 可以访问其他属性列，例如：\n",
    "    # attr = row['some_attribute_column']\n",
    "    print(geom.centroid)\n",
    "    center = geom.centroid\n",
    "    print(center.x, center.y)\n",
    "    # 这里可以添加你的处理逻辑\n",
    "    print(\"Feature ID:\", index)\n",
    "    print(\"Geometry:\", geom)\n",
    "    # 如果需要，可以继续处理几何对象geom和其他属性attr"
   ]
  },
  {
   "cell_type": "code",
   "execution_count": 4,
   "metadata": {},
   "outputs": [
    {
     "data": {
      "text/plain": [
       "array([1.1  , 1.675, 2.25 , 2.825, 3.4  ])"
      ]
     },
     "execution_count": 4,
     "metadata": {},
     "output_type": "execute_result"
    }
   ],
   "source": [
    "import numpy as np\n",
    "minx = 1.1\n",
    "maxx = 3.4\n",
    "scale = 0.5\n",
    "x_values = np.linspace(minx, maxx, num=int((maxx - minx) / scale) + 1)\n",
    "x_values"
   ]
  },
  {
   "cell_type": "code",
   "execution_count": 2,
   "metadata": {},
   "outputs": [
    {
     "name": "stdout",
     "output_type": "stream",
     "text": [
      "Web Mercator Coordinates: (11789880.665762842, 2634957.5761673045)\n"
     ]
    },
    {
     "name": "stderr",
     "output_type": "stream",
     "text": [
      "/opt/homebrew/lib/python3.12/site-packages/pyproj/crs/crs.py:141: FutureWarning: '+init=<authority>:<code>' syntax is deprecated. '<authority>:<code>' is the preferred initialization method. When making the change, be mindful of axis order changes: https://pyproj4.github.io/pyproj/stable/gotchas.html#axis-order-changes-in-proj-6\n",
      "  in_crs_string = _prepare_from_proj_string(in_crs_string)\n",
      "/opt/homebrew/lib/python3.12/site-packages/pyproj/crs/crs.py:141: FutureWarning: '+init=<authority>:<code>' syntax is deprecated. '<authority>:<code>' is the preferred initialization method. When making the change, be mindful of axis order changes: https://pyproj4.github.io/pyproj/stable/gotchas.html#axis-order-changes-in-proj-6\n",
      "  in_crs_string = _prepare_from_proj_string(in_crs_string)\n",
      "/var/folders/d7/lvn7qn816xlcyc6zp72clg_h0000gn/T/ipykernel_38696/98145245.py:14: FutureWarning: This function is deprecated. See: https://pyproj4.github.io/pyproj/stable/gotchas.html#upgrading-to-pyproj-2-from-pyproj-1\n",
      "  x, y = transform(wgs84, web_mercator, lon, lat)\n"
     ]
    }
   ],
   "source": [
    "from pyproj import Proj, transform\n",
    "\n",
    "# 定义WGS 84坐标系（EPSG:4326）\n",
    "wgs84 = Proj(init='epsg:4326')\n",
    "\n",
    "# 定义Web Mercator坐标系（EPSG:3857）\n",
    "web_mercator = Proj(init='epsg:3857')\n",
    "\n",
    "# 经纬度坐标，例如：(纬度, 经度)\n",
    "lat, lon = 23.0243, 105.9103,\n",
    "  # 纽约市的经纬度\n",
    "\n",
    "# 将WGS 84坐标转换为Web Mercator坐标\n",
    "x, y = transform(wgs84, web_mercator, lon, lat)\n",
    "\n",
    "print(f\"Web Mercator Coordinates: ({x}, {y})\")"
   ]
  },
  {
   "cell_type": "code",
   "execution_count": null,
   "metadata": {},
   "outputs": [],
   "source": [
    "            \"GPS_X\": 35471900,\n",
    "            \"GPS_Y\": 2728138,"
   ]
  },
  {
   "cell_type": "code",
   "execution_count": 6,
   "metadata": {},
   "outputs": [
    {
     "data": {
      "text/plain": [
       "array([117., 118., 119., 120.])"
      ]
     },
     "execution_count": 6,
     "metadata": {},
     "output_type": "execute_result"
    }
   ],
   "source": [
    "import numpy as np\n",
    "\n",
    "# 生成从0到10的5个等间距样本\n",
    "samples = np.linspace(117, 120, 4)\n",
    "samples"
   ]
  },
  {
   "cell_type": "code",
   "execution_count": 4,
   "metadata": {},
   "outputs": [
    {
     "data": {
      "text/plain": [
       "array([0., 2., 4., 6., 8.])"
      ]
     },
     "execution_count": 4,
     "metadata": {},
     "output_type": "execute_result"
    }
   ],
   "source": [
    "samples_exclusive"
   ]
  }
 ],
 "metadata": {
  "kernelspec": {
   "display_name": "Python 3",
   "language": "python",
   "name": "python3"
  },
  "language_info": {
   "codemirror_mode": {
    "name": "ipython",
    "version": 3
   },
   "file_extension": ".py",
   "mimetype": "text/x-python",
   "name": "python",
   "nbconvert_exporter": "python",
   "pygments_lexer": "ipython3",
   "version": "3.12.3"
  }
 },
 "nbformat": 4,
 "nbformat_minor": 2
}
