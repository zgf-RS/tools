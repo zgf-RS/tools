{
 "cells": [
  {
   "cell_type": "markdown",
   "metadata": {},
   "source": [
    "# 输入 \n",
    "1. quadID和对应已下载影像的日期（year-month）\n",
    "2. 全局geojson文件（确保该quadID已作业完毕）\n",
    "# 输出\n",
    "文件夹命名 {quadID}_{HQ_month}_{QQ_month}\n",
    "    子文件夹命名 {quadID}_{HQ_month}_{QQ_month}_裁剪编号\n",
    "        存储内容 对应quadID经过裁剪后影像对和mask\n",
    "# 流程\n",
    "1. 筛选与对应quadID相交的feature组成geojson\n",
    "1. geojson2mask\n",
    "2. maskandimageClip 4096->256\n"
   ]
  },
  {
   "cell_type": "markdown",
   "metadata": {},
   "source": [
    "# 输入\n",
    "1. 影像文件夹\n",
    "# 流程\n",
    "1. 遍历文件夹\n",
    "    读取所有文件名\n",
    "    dict['x-y'] = '2020-01'\n",
    "# 输出\n",
    "1. x-y year-month (txt格式)"
   ]
  }
 ],
 "metadata": {
  "language_info": {
   "name": "python"
  }
 },
 "nbformat": 4,
 "nbformat_minor": 2
}
